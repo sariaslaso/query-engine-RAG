{
 "cells": [
  {
   "cell_type": "code",
   "execution_count": 1,
   "id": "e0a080c6-a67a-431d-84e9-64e06e43418a",
   "metadata": {},
   "outputs": [],
   "source": [
    "import spacy"
   ]
  },
  {
   "cell_type": "code",
   "execution_count": 2,
   "id": "3aafa3ca-55cc-4ecd-a47d-fb4a9be7a8d2",
   "metadata": {},
   "outputs": [],
   "source": [
    "# helper functions\n",
    "def remove_newline(par):\n",
    "    # remove newline characters from a paragraph\n",
    "    return \" \".join(par.split())"
   ]
  },
  {
   "cell_type": "code",
   "execution_count": 3,
   "id": "90193364-37aa-4304-a8db-d0d2519ab9bd",
   "metadata": {},
   "outputs": [],
   "source": [
    "file_path = \"../data/LesMiserables.txt\""
   ]
  },
  {
   "cell_type": "code",
   "execution_count": 4,
   "id": "385617a3-368f-4a51-8e7b-cfe700373d11",
   "metadata": {},
   "outputs": [],
   "source": [
    "# read the file into one long string \"text\"\n",
    "with open(file_path, \"r\") as text_file:\n",
    "    text = text_file.read()"
   ]
  },
  {
   "cell_type": "code",
   "execution_count": 5,
   "id": "92a6dcde-0596-4a8e-89df-e0ff8c7ea112",
   "metadata": {},
   "outputs": [],
   "source": [
    "# split text by paragraphs \n",
    "text_paragraphs = text.split(\"\\n\\n\")"
   ]
  },
  {
   "cell_type": "code",
   "execution_count": 6,
   "id": "3dfa990c-05be-4dd9-81bb-460fce511f47",
   "metadata": {},
   "outputs": [
    {
     "data": {
      "text/plain": [
       "14558"
      ]
     },
     "execution_count": 6,
     "metadata": {},
     "output_type": "execute_result"
    }
   ],
   "source": [
    "len(text_paragraphs)"
   ]
  },
  {
   "cell_type": "code",
   "execution_count": 7,
   "id": "a19e6c05-88b1-4bec-8acb-187b3c10b165",
   "metadata": {},
   "outputs": [
    {
     "data": {
      "text/plain": [
       "'The Project Gutenberg eBook of Les Misérables\\n    \\nThis ebook is for the use of anyone anywhere in the United States and\\nmost other parts of the world at no cost and with almost no restrictions\\nwhatsoever. You may copy it, give it away or re-use it under the terms\\nof the Project Gutenberg License included with this ebook or online\\nat www.gutenberg.org. If you are not located in the United States,\\nyou will have to check the laws of the country where you are located\\nbefore using this eBook.'"
      ]
     },
     "execution_count": 7,
     "metadata": {},
     "output_type": "execute_result"
    }
   ],
   "source": [
    "text_paragraphs[0]"
   ]
  },
  {
   "cell_type": "code",
   "execution_count": 8,
   "id": "f1829f60-2d67-404e-b706-55b04e9da631",
   "metadata": {},
   "outputs": [],
   "source": [
    "# remove \"\\n\" characters using the helper function\n",
    "for i in range(len(text_paragraphs)):\n",
    "    text_paragraphs[i] = remove_newline(text_paragraphs[i])\n"
   ]
  },
  {
   "cell_type": "code",
   "execution_count": 9,
   "id": "55d22aed-bbd9-4e04-a07e-5516b4936166",
   "metadata": {},
   "outputs": [
    {
     "data": {
      "text/plain": [
       "'At the beginning of the Restoration, the convent of the Petit-Picpus was in its decay; this forms a part of the general death of the order, which, after the eighteenth century, has been disappearing like all the religious orders. Contemplation is, like prayer, one of humanity’s needs; but, like everything which the Revolution touched, it will be transformed, and from being hostile to social progress, it will become favorable to it.'"
      ]
     },
     "execution_count": 9,
     "metadata": {},
     "output_type": "execute_result"
    }
   ],
   "source": [
    "text_paragraphs[5000]"
   ]
  },
  {
   "cell_type": "code",
   "execution_count": 10,
   "id": "65687072-2ac6-4e20-8634-8be364f4c627",
   "metadata": {},
   "outputs": [
    {
     "data": {
      "text/plain": [
       "list"
      ]
     },
     "execution_count": 10,
     "metadata": {},
     "output_type": "execute_result"
    }
   ],
   "source": [
    "type(text_paragraphs)"
   ]
  },
  {
   "cell_type": "markdown",
   "id": "665a744c-2175-4509-b175-4adde03c8fda",
   "metadata": {},
   "source": [
    "##### Sentence segmentation using spaCy"
   ]
  },
  {
   "cell_type": "code",
   "execution_count": 11,
   "id": "003437d5-bc9b-4eb2-b594-f2aa10b8d0fb",
   "metadata": {},
   "outputs": [],
   "source": [
    "# Load pretrained English Language Model\n",
    "nlp = spacy.load('en_core_web_sm') "
   ]
  },
  {
   "cell_type": "code",
   "execution_count": 12,
   "id": "a862e09e-1540-4ad0-b9a3-ff6044eea3ff",
   "metadata": {},
   "outputs": [],
   "source": [
    "# create an object \"doc\" by creating an instance of the nlp class for one paragraph\n",
    "\n",
    "doc = nlp(text_paragraphs[5000])"
   ]
  },
  {
   "cell_type": "code",
   "execution_count": 13,
   "id": "cb5baa8b-e5c8-4916-9b03-85ffdb43aee5",
   "metadata": {},
   "outputs": [
    {
     "data": {
      "text/plain": [
       "'At the beginning of the Restoration, the convent of the Petit-Picpus was in its decay; this forms a part of the general death of the order, which, after the eighteenth century, has been disappearing like all the religious orders. Contemplation is, like prayer, one of humanity’s needs; but, like everything which the Revolution touched, it will be transformed, and from being hostile to social progress, it will become favorable to it.'"
      ]
     },
     "execution_count": 13,
     "metadata": {},
     "output_type": "execute_result"
    }
   ],
   "source": [
    "doc.text"
   ]
  },
  {
   "cell_type": "code",
   "execution_count": 14,
   "id": "af680e99-71fc-4b15-b021-32e1f5649236",
   "metadata": {},
   "outputs": [
    {
     "name": "stdout",
     "output_type": "stream",
     "text": [
      "At 85 443\n",
      "the 90 415\n",
      "beginning 92 439\n",
      "of 85 443\n",
      "the 90 415\n",
      "Restoration 96 439\n",
      ", 97 445\n",
      "the 90 415\n",
      "convent 92 429\n",
      "of 85 443\n",
      "the 90 415\n",
      "Petit 96 7037928807040764755\n",
      "- 97 445\n",
      "Picpus 96 439\n",
      "was 87 408\n",
      "in 85 443\n",
      "its 95 440\n",
      "decay 92 439\n",
      "; 97 445\n",
      "this 95 429\n",
      "forms 100 8206900633647566924\n",
      "a 90 415\n",
      "part 92 416\n",
      "of 85 443\n",
      "the 90 415\n",
      "general 84 402\n",
      "death 92 439\n",
      "of 85 443\n",
      "the 90 415\n",
      "order 92 439\n",
      ", 97 445\n",
      "which 95 429\n",
      ", 97 445\n",
      "after 85 443\n",
      "the 90 415\n",
      "eighteenth 84 402\n",
      "century 92 439\n",
      ", 97 445\n",
      "has 87 405\n",
      "been 87 405\n",
      "disappearing 100 447\n",
      "like 85 443\n",
      "all 90 13323405159917154080\n",
      "the 90 415\n",
      "religious 84 402\n",
      "orders 92 439\n",
      ". 97 445\n",
      "Contemplation 92 429\n",
      "is 87 8206900633647566924\n",
      ", 97 445\n",
      "like 85 443\n",
      "prayer 92 439\n",
      ", 97 445\n",
      "one 93 404\n",
      "of 85 443\n",
      "humanity 92 440\n",
      "’s 94 8110129090154140942\n",
      "needs 92 439\n",
      "; 97 445\n",
      "but 89 407\n",
      ", 97 445\n",
      "like 85 443\n",
      "everything 95 439\n",
      "which 95 416\n",
      "the 90 415\n",
      "Revolution 96 429\n",
      "touched 100 447\n",
      ", 97 445\n",
      "it 95 430\n",
      "will 87 405\n",
      "be 87 406\n",
      "transformed 100 410\n",
      ", 97 445\n",
      "and 89 407\n",
      "from 85 443\n",
      "being 87 438\n",
      "hostile 84 398\n",
      "to 85 443\n",
      "social 84 402\n",
      "progress 92 439\n",
      ", 97 445\n",
      "it 95 429\n",
      "will 87 405\n",
      "become 100 410\n",
      "favorable 84 398\n",
      "to 85 443\n",
      "it 95 439\n",
      ". 97 445\n"
     ]
    }
   ],
   "source": [
    "for token in doc:\n",
    "    print(token.text, token.pos, token.dep)"
   ]
  },
  {
   "cell_type": "code",
   "execution_count": 15,
   "id": "1bb64a35-f2ee-43d9-8c60-b76eb9f5d459",
   "metadata": {},
   "outputs": [
    {
     "data": {
      "text/plain": [
       "<generator at 0x7f2506777250>"
      ]
     },
     "execution_count": 15,
     "metadata": {},
     "output_type": "execute_result"
    }
   ],
   "source": [
    "doc.sents"
   ]
  },
  {
   "cell_type": "code",
   "execution_count": 16,
   "id": "7f3b8f3d-56d4-4d21-af27-253e8901dc7c",
   "metadata": {},
   "outputs": [
    {
     "name": "stdout",
     "output_type": "stream",
     "text": [
      "At the beginning of the Restoration, the convent of the Petit-Picpus was in its decay; this forms a part of the general death of the order, which, after the eighteenth century, has been disappearing like all the religious orders.\n",
      "\n",
      "Contemplation is, like prayer, one of humanity’s needs; but, like everything which the Revolution touched, it will be transformed, and from being hostile to social progress, it will become favorable to it.\n",
      "\n"
     ]
    }
   ],
   "source": [
    "# generate sentences when calling doc.sents (that generates tokens that point to each sentence in doc)\n",
    "# print each sentence in doc\n",
    "for sent in doc.sents:\n",
    "    print(sent)\n",
    "    print()"
   ]
  },
  {
   "cell_type": "code",
   "execution_count": null,
   "id": "03469f26-5913-4a79-b034-b4d62c44d7bd",
   "metadata": {},
   "outputs": [],
   "source": [
    "# process text as a stream and generates Doc objects in order"
   ]
  },
  {
   "cell_type": "code",
   "execution_count": 19,
   "id": "a4584dce-146c-45fd-b2f8-dd9215b6f2c8",
   "metadata": {},
   "outputs": [],
   "source": [
    "texts = text_paragraphs[:10]"
   ]
  },
  {
   "cell_type": "code",
   "execution_count": 20,
   "id": "1ab1e3db-9a52-4b2a-b269-7ca811a5a5e4",
   "metadata": {},
   "outputs": [
    {
     "data": {
      "text/plain": [
       "['The Project Gutenberg eBook of Les Misérables This ebook is for the use of anyone anywhere in the United States and most other parts of the world at no cost and with almost no restrictions whatsoever. You may copy it, give it away or re-use it under the terms of the Project Gutenberg License included with this ebook or online at www.gutenberg.org. If you are not located in the United States, you will have to check the laws of the country where you are located before using this eBook.',\n",
       " 'Title: Les Misérables',\n",
       " 'Author: Victor Hugo',\n",
       " 'Translator: Isabel Florence Hapgood',\n",
       " 'Release date: June 22, 2008 [eBook #135] Most recently updated: October 29, 2024',\n",
       " 'Language: English',\n",
       " 'Credits: Judith Boss and David Widger',\n",
       " '*** START OF THE PROJECT GUTENBERG EBOOK LES MISÉRABLES ***',\n",
       " 'LES MISÉRABLES',\n",
       " 'By Victor Hugo']"
      ]
     },
     "execution_count": 20,
     "metadata": {},
     "output_type": "execute_result"
    }
   ],
   "source": [
    "texts"
   ]
  },
  {
   "cell_type": "code",
   "execution_count": 33,
   "id": "4071b499-b151-4deb-83b1-0109e7303003",
   "metadata": {},
   "outputs": [],
   "source": [
    "# returns a generator that yields Doc objects\n",
    "doc_pipeline = nlp.pipe(texts, batch_size = 5, n_process = 1)"
   ]
  },
  {
   "cell_type": "code",
   "execution_count": 27,
   "id": "67a1ae6e-d5ef-43a3-b981-064947d7c021",
   "metadata": {},
   "outputs": [
    {
     "data": {
      "text/plain": [
       "<generator object Language.pipe at 0x7f24c9bf8bc0>"
      ]
     },
     "execution_count": 27,
     "metadata": {},
     "output_type": "execute_result"
    }
   ],
   "source": [
    "doc_pipeline"
   ]
  },
  {
   "cell_type": "code",
   "execution_count": 34,
   "id": "0aed9eec-f831-4d82-8f38-9c81fcccff5b",
   "metadata": {},
   "outputs": [
    {
     "name": "stdout",
     "output_type": "stream",
     "text": [
      "The Project Gutenberg eBook of Les Misérables This ebook is for the use of anyone anywhere in the United States and most other parts of the world at no cost and with almost no restrictions whatsoever.\n",
      "\n",
      "You may copy it, give it away or re-use it under the terms of the Project Gutenberg License included with this ebook or online at www.gutenberg.org.\n",
      "\n",
      "If you are not located in the United States, you will have to check the laws of the country where you are located before using this eBook.\n",
      "\n",
      "The Project Gutenberg eBook of Les Misérables This ebook is for the use of anyone anywhere in the United States and most other parts of the world at no cost and with almost no restrictions whatsoever. You may copy it, give it away or re-use it under the terms of the Project Gutenberg License included with this ebook or online at www.gutenberg.org. If you are not located in the United States, you will have to check the laws of the country where you are located before using this eBook.\n",
      "Title: Les Misérables\n",
      "\n",
      "Title: Les Misérables\n",
      "Author: Victor Hugo\n",
      "\n",
      "Author: Victor Hugo\n",
      "Translator: Isabel Florence Hapgood\n",
      "\n",
      "Translator: Isabel Florence Hapgood\n",
      "Release date: June 22, 2008\n",
      "\n",
      "[eBook #135] Most recently updated: October 29, 2024\n",
      "\n",
      "Release date: June 22, 2008 [eBook #135] Most recently updated: October 29, 2024\n",
      "Language: English\n",
      "\n",
      "Language: English\n",
      "Credits: Judith Boss and David Widger\n",
      "\n",
      "Credits: Judith Boss and David Widger\n",
      "*** START OF THE PROJECT GUTENBERG EBOOK LES MISÉRABLES\n",
      "\n",
      "***\n",
      "\n",
      "*** START OF THE PROJECT GUTENBERG EBOOK LES MISÉRABLES ***\n",
      "LES MISÉRABLES\n",
      "\n",
      "LES MISÉRABLES\n",
      "By Victor Hugo\n",
      "\n",
      "By Victor Hugo\n"
     ]
    }
   ],
   "source": [
    "# a chunk is n sentences\n",
    "# every time I collect n sentences join them and that is a chunk, append to a list\n",
    "# after collecting m chunks, embed and index\n",
    "\n",
    "chunks = []\n",
    "sentences = []\n",
    "\n",
    "sentence_limit = 3\n",
    "chunk_limit = 10\n",
    "\n",
    "for doc in doc_pipeline:\n",
    "    for sent in doc.sents:\n",
    "        sentences.append(sent)\n",
    "        \n",
    "        if len(sentences) == sentence_limit:\n",
    "            chunk = \" \".join(sentences)\n",
    "            chunks.append(chunk)\n",
    "            sentences = sentences[1:]\n",
    "\n",
    "        if len(chunks) == chunk_limit:\n",
    "            # embed\n",
    "            # index\n",
    "            chunks = []\n",
    "            \n",
    "        # print(sent)\n",
    "        # print()\n",
    "        \n",
    "    print(doc.text)\n",
    "\n",
    "# at the end of the loop, verify if there are sentences/chunks left to embed and embed them"
   ]
  },
  {
   "cell_type": "code",
   "execution_count": null,
   "id": "e151aed2-8ebb-46ac-9def-6708590b44cc",
   "metadata": {},
   "outputs": [],
   "source": []
  },
  {
   "cell_type": "code",
   "execution_count": null,
   "id": "0d9c8d7d-35ec-4c5d-8aeb-8dcd8de780cf",
   "metadata": {},
   "outputs": [],
   "source": []
  },
  {
   "cell_type": "code",
   "execution_count": null,
   "id": "1bfb082d-b70f-4ee0-b5a4-8517e57477e8",
   "metadata": {},
   "outputs": [],
   "source": []
  },
  {
   "cell_type": "code",
   "execution_count": null,
   "id": "ce1fc07e-4a90-45ec-abbf-e7e369811d78",
   "metadata": {},
   "outputs": [],
   "source": []
  }
 ],
 "metadata": {
  "kernelspec": {
   "display_name": "Python 3 (ipykernel)",
   "language": "python",
   "name": "python3"
  },
  "language_info": {
   "codemirror_mode": {
    "name": "ipython",
    "version": 3
   },
   "file_extension": ".py",
   "mimetype": "text/x-python",
   "name": "python",
   "nbconvert_exporter": "python",
   "pygments_lexer": "ipython3",
   "version": "3.11.9"
  }
 },
 "nbformat": 4,
 "nbformat_minor": 5
}
