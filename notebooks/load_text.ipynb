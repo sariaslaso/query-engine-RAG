{
 "cells": [
  {
   "cell_type": "code",
   "execution_count": 26,
   "id": "3aafa3ca-55cc-4ecd-a47d-fb4a9be7a8d2",
   "metadata": {},
   "outputs": [],
   "source": [
    "def remove_newline(par):\n",
    "    # remove newline characters from a paragraph\n",
    "    \n",
    "    return \" \".join(par.split())"
   ]
  },
  {
   "cell_type": "code",
   "execution_count": 1,
   "id": "90193364-37aa-4304-a8db-d0d2519ab9bd",
   "metadata": {},
   "outputs": [],
   "source": [
    "file_path = \"../data/LesMiserables.txt\""
   ]
  },
  {
   "cell_type": "code",
   "execution_count": 10,
   "id": "385617a3-368f-4a51-8e7b-cfe700373d11",
   "metadata": {},
   "outputs": [],
   "source": [
    "# read the file into one long string \"text\"\n",
    "with open(file_path, \"r\") as text_file:\n",
    "    text = text_file.read()"
   ]
  },
  {
   "cell_type": "code",
   "execution_count": 13,
   "id": "92a6dcde-0596-4a8e-89df-e0ff8c7ea112",
   "metadata": {},
   "outputs": [],
   "source": [
    "# split text by paragraphs \n",
    "text_paragraphs = text.split(\"\\n\\n\")"
   ]
  },
  {
   "cell_type": "code",
   "execution_count": 22,
   "id": "3dfa990c-05be-4dd9-81bb-460fce511f47",
   "metadata": {},
   "outputs": [
    {
     "data": {
      "text/plain": [
       "14558"
      ]
     },
     "execution_count": 22,
     "metadata": {},
     "output_type": "execute_result"
    }
   ],
   "source": [
    "len(text_paragraphs)"
   ]
  },
  {
   "cell_type": "code",
   "execution_count": 32,
   "id": "9314e6d1-1859-4749-b90b-26daa8e86675",
   "metadata": {},
   "outputs": [],
   "source": [
    "text_paragraphs[0] = \" \".join(text_paragraphs[0].split())"
   ]
  },
  {
   "cell_type": "code",
   "execution_count": 33,
   "id": "a19e6c05-88b1-4bec-8acb-187b3c10b165",
   "metadata": {},
   "outputs": [
    {
     "data": {
      "text/plain": [
       "'The Project Gutenberg eBook of Les Misérables This ebook is for the use of anyone anywhere in the United States and most other parts of the world at no cost and with almost no restrictions whatsoever. You may copy it, give it away or re-use it under the terms of the Project Gutenberg License included with this ebook or online at www.gutenberg.org. If you are not located in the United States, you will have to check the laws of the country where you are located before using this eBook.'"
      ]
     },
     "execution_count": 33,
     "metadata": {},
     "output_type": "execute_result"
    }
   ],
   "source": [
    "text_paragraphs[0]"
   ]
  },
  {
   "cell_type": "code",
   "execution_count": 38,
   "id": "f1829f60-2d67-404e-b706-55b04e9da631",
   "metadata": {},
   "outputs": [],
   "source": [
    "for i in range(len(text_paragraphs)):\n",
    "    text_paragraphs[i] = remove_newline(text_paragraphs[i])\n"
   ]
  },
  {
   "cell_type": "code",
   "execution_count": 52,
   "id": "55d22aed-bbd9-4e04-a07e-5516b4936166",
   "metadata": {},
   "outputs": [
    {
     "data": {
      "text/plain": [
       "['“Turnkey,” said he, removing his cap politely, “will you have the kindness to admit me, and give me a lodging for the night?”',\n",
       " 'A voice replied:—',\n",
       " '“The prison is not an inn. Get yourself arrested, and you will be admitted.”',\n",
       " 'The wicket closed again.',\n",
       " 'He entered a little street in which there were many gardens. Some of them are enclosed only by hedges, which lends a cheerful aspect to the street. In the midst of these gardens and hedges he caught sight of a small house of a single story, the window of which was lighted up. He peered through the pane as he had done at the public house. Within was a large whitewashed room, with a bed draped in printed cotton stuff, and a cradle in one corner, a few wooden chairs, and a double-barrelled gun hanging on the wall. A table was spread in the centre of the room. A copper lamp illuminated the tablecloth of coarse white linen, the pewter jug shining like silver, and filled with wine, and the brown, smoking soup-tureen. At this table sat a man of about forty, with a merry and open countenance, who was dandling a little child on his knees. Close by a very young woman was nursing another child. The father was laughing, the child was laughing, the mother was smiling.',\n",
       " 'The stranger paused a moment in reverie before this tender and calming spectacle. What was taking place within him? He alone could have told. It is probable that he thought that this joyous house would be hospitable, and that, in a place where he beheld so much happiness, he would find perhaps a little pity.',\n",
       " 'He tapped on the pane with a very small and feeble knock.',\n",
       " 'They did not hear him.',\n",
       " 'He tapped again.',\n",
       " 'He heard the woman say, “It seems to me, husband, that some one is knocking.”']"
      ]
     },
     "execution_count": 52,
     "metadata": {},
     "output_type": "execute_result"
    }
   ],
   "source": [
    "text_paragraphs[990:1000]"
   ]
  },
  {
   "cell_type": "code",
   "execution_count": null,
   "id": "003437d5-bc9b-4eb2-b594-f2aa10b8d0fb",
   "metadata": {},
   "outputs": [],
   "source": []
  },
  {
   "cell_type": "code",
   "execution_count": null,
   "id": "5d719b30-1105-4a8e-a1d0-53802dfccd8a",
   "metadata": {},
   "outputs": [],
   "source": []
  }
 ],
 "metadata": {
  "kernelspec": {
   "display_name": "Python 3 (ipykernel)",
   "language": "python",
   "name": "python3"
  },
  "language_info": {
   "codemirror_mode": {
    "name": "ipython",
    "version": 3
   },
   "file_extension": ".py",
   "mimetype": "text/x-python",
   "name": "python",
   "nbconvert_exporter": "python",
   "pygments_lexer": "ipython3",
   "version": "3.11.9"
  }
 },
 "nbformat": 4,
 "nbformat_minor": 5
}
