{
 "cells": [
  {
   "cell_type": "code",
   "execution_count": 28,
   "id": "e0a080c6-a67a-431d-84e9-64e06e43418a",
   "metadata": {},
   "outputs": [],
   "source": [
    "import spacy\n",
    "from FlagEmbedding import FlagModel\n",
    "from elasticsearch import Elasticsearch"
   ]
  },
  {
   "cell_type": "code",
   "execution_count": 2,
   "id": "3aafa3ca-55cc-4ecd-a47d-fb4a9be7a8d2",
   "metadata": {},
   "outputs": [],
   "source": [
    "# helper functions\n",
    "def remove_newline(text):\n",
    "# remove newline characters, \"\\n\", from the text\n",
    "# text: list of paragraphs in the text\n",
    "    \n",
    "    for i in range(len(text)):\n",
    "        text[i] = \" \".join(text[i].split())\n",
    "\n",
    "    return text\n"
   ]
  },
  {
   "cell_type": "code",
   "execution_count": 3,
   "id": "90193364-37aa-4304-a8db-d0d2519ab9bd",
   "metadata": {},
   "outputs": [],
   "source": [
    "file_path = \"../data/LesMiserables.txt\""
   ]
  },
  {
   "cell_type": "code",
   "execution_count": 4,
   "id": "385617a3-368f-4a51-8e7b-cfe700373d11",
   "metadata": {},
   "outputs": [],
   "source": [
    "# read the file into one long string \"text\"\n",
    "with open(file_path, \"r\") as text_file:\n",
    "    text = text_file.read()"
   ]
  },
  {
   "cell_type": "code",
   "execution_count": 5,
   "id": "92a6dcde-0596-4a8e-89df-e0ff8c7ea112",
   "metadata": {},
   "outputs": [],
   "source": [
    "# split text by paragraphs \n",
    "text_paragraphs = text.split(\"\\n\\n\")"
   ]
  },
  {
   "cell_type": "code",
   "execution_count": 6,
   "id": "3dfa990c-05be-4dd9-81bb-460fce511f47",
   "metadata": {},
   "outputs": [
    {
     "data": {
      "text/plain": [
       "14558"
      ]
     },
     "execution_count": 6,
     "metadata": {},
     "output_type": "execute_result"
    }
   ],
   "source": [
    "len(text_paragraphs)"
   ]
  },
  {
   "cell_type": "code",
   "execution_count": 7,
   "id": "a19e6c05-88b1-4bec-8acb-187b3c10b165",
   "metadata": {},
   "outputs": [
    {
     "data": {
      "text/plain": [
       "'The Project Gutenberg eBook of Les Misérables\\n    \\nThis ebook is for the use of anyone anywhere in the United States and\\nmost other parts of the world at no cost and with almost no restrictions\\nwhatsoever. You may copy it, give it away or re-use it under the terms\\nof the Project Gutenberg License included with this ebook or online\\nat www.gutenberg.org. If you are not located in the United States,\\nyou will have to check the laws of the country where you are located\\nbefore using this eBook.'"
      ]
     },
     "execution_count": 7,
     "metadata": {},
     "output_type": "execute_result"
    }
   ],
   "source": [
    "text_paragraphs[0]"
   ]
  },
  {
   "cell_type": "code",
   "execution_count": 8,
   "id": "95c3b591-6190-4ed7-aad6-bf0fdc63cd5e",
   "metadata": {},
   "outputs": [],
   "source": [
    "text_paragraphs = remove_newline(text_paragraphs)"
   ]
  },
  {
   "cell_type": "code",
   "execution_count": 9,
   "id": "55d22aed-bbd9-4e04-a07e-5516b4936166",
   "metadata": {},
   "outputs": [
    {
     "data": {
      "text/plain": [
       "'The Project Gutenberg eBook of Les Misérables This ebook is for the use of anyone anywhere in the United States and most other parts of the world at no cost and with almost no restrictions whatsoever. You may copy it, give it away or re-use it under the terms of the Project Gutenberg License included with this ebook or online at www.gutenberg.org. If you are not located in the United States, you will have to check the laws of the country where you are located before using this eBook.'"
      ]
     },
     "execution_count": 9,
     "metadata": {},
     "output_type": "execute_result"
    }
   ],
   "source": [
    "text_paragraphs[0]"
   ]
  },
  {
   "cell_type": "markdown",
   "id": "665a744c-2175-4509-b175-4adde03c8fda",
   "metadata": {},
   "source": [
    "##### Sentence segmentation using spaCy"
   ]
  },
  {
   "cell_type": "code",
   "execution_count": 10,
   "id": "003437d5-bc9b-4eb2-b594-f2aa10b8d0fb",
   "metadata": {},
   "outputs": [],
   "source": [
    "# Load pretrained English Language Model to separate the text into sentences\n",
    "nlp = spacy.load('en_core_web_sm') "
   ]
  },
  {
   "cell_type": "code",
   "execution_count": 11,
   "id": "a862e09e-1540-4ad0-b9a3-ff6044eea3ff",
   "metadata": {},
   "outputs": [],
   "source": [
    "# create an object \"doc\" by creating an instance of the nlp class for one paragraph\n",
    "# when applying nlp to a text, spaCy tokenizes the text to produce a Doc object\n",
    "\n",
    "doc = nlp(text_paragraphs[5000])"
   ]
  },
  {
   "cell_type": "code",
   "execution_count": 13,
   "id": "cb5baa8b-e5c8-4916-9b03-85ffdb43aee5",
   "metadata": {},
   "outputs": [
    {
     "data": {
      "text/plain": [
       "'At the beginning of the Restoration, the convent of the Petit-Picpus was in its decay; this forms a part of the general death of the order, which, after the eighteenth century, has been disappearing like all the religious orders. Contemplation is, like prayer, one of humanity’s needs; but, like everything which the Revolution touched, it will be transformed, and from being hostile to social progress, it will become favorable to it.'"
      ]
     },
     "execution_count": 13,
     "metadata": {},
     "output_type": "execute_result"
    }
   ],
   "source": [
    "doc.text"
   ]
  },
  {
   "cell_type": "code",
   "execution_count": 14,
   "id": "af680e99-71fc-4b15-b021-32e1f5649236",
   "metadata": {},
   "outputs": [
    {
     "name": "stdout",
     "output_type": "stream",
     "text": [
      "At 85 443 1292078113972184607\n",
      "the 90 415 15267657372422890137\n",
      "beginning 92 439 15308085513773655218\n",
      "of 85 443 1292078113972184607\n",
      "the 90 415 15267657372422890137\n",
      "Restoration 96 439 15794550382381185553\n",
      ", 97 445 2593208677638477497\n",
      "the 90 415 15267657372422890137\n",
      "convent 92 429 15308085513773655218\n",
      "of 85 443 1292078113972184607\n",
      "the 90 415 15267657372422890137\n",
      "Petit 96 7037928807040764755 15794550382381185553\n",
      "- 97 445 8214596291009089021\n",
      "Picpus 96 439 15794550382381185553\n",
      "was 87 408 17109001835818727656\n",
      "in 85 443 1292078113972184607\n",
      "its 95 440 4062917326063685704\n",
      "decay 92 439 15308085513773655218\n",
      "; 97 445 11532473245541075862\n",
      "this 95 429 15267657372422890137\n",
      "forms 100 8206900633647566924 13927759927860985106\n",
      "a 90 415 15267657372422890137\n",
      "part 92 416 15308085513773655218\n",
      "of 85 443 1292078113972184607\n",
      "the 90 415 15267657372422890137\n",
      "general 84 402 10554686591937588953\n",
      "death 92 439 15308085513773655218\n",
      "of 85 443 1292078113972184607\n",
      "the 90 415 15267657372422890137\n",
      "order 92 439 15308085513773655218\n",
      ", 97 445 2593208677638477497\n",
      "which 95 429 17202369883303991778\n",
      ", 97 445 2593208677638477497\n",
      "after 85 443 1292078113972184607\n",
      "the 90 415 15267657372422890137\n",
      "eighteenth 84 402 10554686591937588953\n",
      "century 92 439 15308085513773655218\n",
      ", 97 445 2593208677638477497\n",
      "has 87 405 13927759927860985106\n",
      "been 87 405 3822385049556375858\n",
      "disappearing 100 447 1534113631682161808\n",
      "like 85 443 1292078113972184607\n",
      "all 90 13323405159917154080 7477624496606277342\n",
      "the 90 415 15267657372422890137\n",
      "religious 84 402 10554686591937588953\n",
      "orders 92 439 783433942507015291\n",
      ". 97 445 12646065887601541794\n",
      "Contemplation 92 429 15308085513773655218\n",
      "is 87 8206900633647566924 13927759927860985106\n",
      ", 97 445 2593208677638477497\n",
      "like 85 443 1292078113972184607\n",
      "prayer 92 439 15308085513773655218\n",
      ", 97 445 2593208677638477497\n",
      "one 93 404 8427216679587749980\n",
      "of 85 443 1292078113972184607\n",
      "humanity 92 440 15308085513773655218\n",
      "’s 94 8110129090154140942 74\n",
      "needs 92 439 783433942507015291\n",
      "; 97 445 11532473245541075862\n",
      "but 89 407 17571114184892886314\n",
      ", 97 445 2593208677638477497\n",
      "like 85 443 1292078113972184607\n",
      "everything 95 439 15308085513773655218\n",
      "which 95 416 17202369883303991778\n",
      "the 90 415 15267657372422890137\n",
      "Revolution 96 429 15794550382381185553\n",
      "touched 100 447 17109001835818727656\n",
      ", 97 445 2593208677638477497\n",
      "it 95 430 13656873538139661788\n",
      "will 87 405 16235386156175103506\n",
      "be 87 406 14200088355797579614\n",
      "transformed 100 410 3822385049556375858\n",
      ", 97 445 2593208677638477497\n",
      "and 89 407 17571114184892886314\n",
      "from 85 443 1292078113972184607\n",
      "being 87 438 1534113631682161808\n",
      "hostile 84 398 10554686591937588953\n",
      "to 85 443 1292078113972184607\n",
      "social 84 402 10554686591937588953\n",
      "progress 92 439 15308085513773655218\n",
      ", 97 445 2593208677638477497\n",
      "it 95 429 13656873538139661788\n",
      "will 87 405 16235386156175103506\n",
      "become 100 410 14200088355797579614\n",
      "favorable 84 398 10554686591937588953\n",
      "to 85 443 1292078113972184607\n",
      "it 95 439 13656873538139661788\n",
      ". 97 445 12646065887601541794\n"
     ]
    }
   ],
   "source": [
    "for token in doc:\n",
    "    print(token.text, token.pos, token.dep, token.tag)"
   ]
  },
  {
   "cell_type": "code",
   "execution_count": 16,
   "id": "3890dcca-f300-46ed-908d-ae2d3a103c62",
   "metadata": {},
   "outputs": [
    {
     "name": "stdout",
     "output_type": "stream",
     "text": [
      "the Petit-Picpus\n",
      "the eighteenth century\n",
      "one\n",
      "Revolution\n"
     ]
    }
   ],
   "source": [
    "# using entity recognizer in the text\n",
    "for ent in doc.ents:\n",
    "    print(ent)"
   ]
  },
  {
   "cell_type": "code",
   "execution_count": 18,
   "id": "a98a5950-357b-430f-9789-3b0e6f68a1da",
   "metadata": {},
   "outputs": [
    {
     "data": {
      "text/plain": [
       "<generator at 0x7f77db6d0430>"
      ]
     },
     "execution_count": 18,
     "metadata": {},
     "output_type": "execute_result"
    }
   ],
   "source": [
    "# sentence generator\n",
    "doc.sents"
   ]
  },
  {
   "cell_type": "code",
   "execution_count": 20,
   "id": "7f3b8f3d-56d4-4d21-af27-253e8901dc7c",
   "metadata": {},
   "outputs": [
    {
     "name": "stdout",
     "output_type": "stream",
     "text": [
      "At the beginning of the Restoration, the convent of the Petit-Picpus was in its decay; this forms a part of the general death of the order, which, after the eighteenth century, has been disappearing like all the religious orders.\n",
      "\n",
      "Contemplation is, like prayer, one of humanity’s needs; but, like everything which the Revolution touched, it will be transformed, and from being hostile to social progress, it will become favorable to it.\n",
      "\n"
     ]
    }
   ],
   "source": [
    "# generate sentences when calling doc.sents (that generates tokens that point to each sentence in doc)\n",
    "# print each sentence in doc\n",
    "for sent in doc.sents:\n",
    "    print(sent)\n",
    "    print()"
   ]
  },
  {
   "cell_type": "code",
   "execution_count": 21,
   "id": "a4584dce-146c-45fd-b2f8-dd9215b6f2c8",
   "metadata": {},
   "outputs": [],
   "source": [
    "# using a reduced text, the first 10 paragraphs\n",
    "texts = text_paragraphs[:10]"
   ]
  },
  {
   "cell_type": "code",
   "execution_count": 22,
   "id": "1ab1e3db-9a52-4b2a-b269-7ca811a5a5e4",
   "metadata": {},
   "outputs": [
    {
     "data": {
      "text/plain": [
       "['The Project Gutenberg eBook of Les Misérables This ebook is for the use of anyone anywhere in the United States and most other parts of the world at no cost and with almost no restrictions whatsoever. You may copy it, give it away or re-use it under the terms of the Project Gutenberg License included with this ebook or online at www.gutenberg.org. If you are not located in the United States, you will have to check the laws of the country where you are located before using this eBook.',\n",
       " 'Title: Les Misérables',\n",
       " 'Author: Victor Hugo',\n",
       " 'Translator: Isabel Florence Hapgood',\n",
       " 'Release date: June 22, 2008 [eBook #135] Most recently updated: October 29, 2024',\n",
       " 'Language: English',\n",
       " 'Credits: Judith Boss and David Widger',\n",
       " '*** START OF THE PROJECT GUTENBERG EBOOK LES MISÉRABLES ***',\n",
       " 'LES MISÉRABLES',\n",
       " 'By Victor Hugo']"
      ]
     },
     "execution_count": 22,
     "metadata": {},
     "output_type": "execute_result"
    }
   ],
   "source": [
    "texts"
   ]
  },
  {
   "cell_type": "code",
   "execution_count": 23,
   "id": "b1620c9d-79fb-4a4c-acc2-9348d5da68f5",
   "metadata": {},
   "outputs": [
    {
     "data": {
      "text/plain": [
       "'The Project Gutenberg eBook of Les Misérables This ebook is for the use of anyone anywhere in the United States and most other parts of the world at no cost and with almost no restrictions whatsoever. You may copy it, give it away or re-use it under the terms of the Project Gutenberg License included with this ebook or online at www.gutenberg.org. If you are not located in the United States, you will have to check the laws of the country where you are located before using this eBook.'"
      ]
     },
     "execution_count": 23,
     "metadata": {},
     "output_type": "execute_result"
    }
   ],
   "source": [
    "texts[0]"
   ]
  },
  {
   "cell_type": "code",
   "execution_count": 24,
   "id": "fea12d39-aa85-4ead-83cc-a1f72834887f",
   "metadata": {},
   "outputs": [],
   "source": [
    "# load bge language model to embed the text in chunks\n",
    "model = FlagModel('BAAI/bge-small-zh-v1.5', use_fp16 = True)"
   ]
  },
  {
   "cell_type": "code",
   "execution_count": 25,
   "id": "134ab184-1e44-439f-995e-3396a8a4e00f",
   "metadata": {},
   "outputs": [
    {
     "name": "stderr",
     "output_type": "stream",
     "text": [
      "You're using a BertTokenizerFast tokenizer. Please note that with a fast tokenizer, using the `__call__` method is faster than using a method to encode the text followed by a call to the `pad` method to get a padded encoding.\n"
     ]
    }
   ],
   "source": [
    "# embedding single paragraphs\n",
    "embeddings_0 = model.encode(texts[0])\n",
    "embeddings_1 = model.encode(texts[3])"
   ]
  },
  {
   "cell_type": "code",
   "execution_count": 26,
   "id": "8c3493fb-8d7d-4764-ae62-cff29b80bed8",
   "metadata": {},
   "outputs": [],
   "source": [
    "# calculate cosine similarity between the embedded paragraphs\n",
    "similarity = embeddings_0 @ embeddings_1.T"
   ]
  },
  {
   "cell_type": "code",
   "execution_count": 27,
   "id": "e3cc0289-dc05-42a9-a1bf-2b1c8ae603a3",
   "metadata": {},
   "outputs": [
    {
     "data": {
      "text/plain": [
       "np.float32(0.5518602)"
      ]
     },
     "execution_count": 27,
     "metadata": {},
     "output_type": "execute_result"
    }
   ],
   "source": [
    "similarity"
   ]
  },
  {
   "cell_type": "code",
   "execution_count": 31,
   "id": "0062a176-c65f-4c94-978e-0e490369844e",
   "metadata": {},
   "outputs": [],
   "source": [
    "# instantiate Python client \n",
    "client = Elasticsearch(\"http://elasticsearch:9200\")"
   ]
  },
  {
   "cell_type": "code",
   "execution_count": 40,
   "id": "21885818-f623-40fa-8758-1f43a26bb87d",
   "metadata": {},
   "outputs": [
    {
     "data": {
      "text/plain": [
       "HeadApiResponse(False)"
      ]
     },
     "execution_count": 40,
     "metadata": {},
     "output_type": "execute_result"
    }
   ],
   "source": [
    "client.indices.exists(index = \"tyyyg\")"
   ]
  },
  {
   "cell_type": "code",
   "execution_count": 41,
   "id": "f1186fc9-eede-4072-9424-4e3abd18d8be",
   "metadata": {},
   "outputs": [
    {
     "name": "stdout",
     "output_type": "stream",
     "text": [
      "{'name': 'fe633bdc30e0', 'cluster_name': 'docker-cluster', 'cluster_uuid': 'FQFRdZJeQeORa-XHf-5NLA', 'version': {'number': '8.16.1', 'build_flavor': 'default', 'build_type': 'docker', 'build_hash': 'ffe992aa682c1968b5df375b5095b3a21f122bf3', 'build_date': '2024-11-19T16:00:31.793213192Z', 'build_snapshot': False, 'lucene_version': '9.12.0', 'minimum_wire_compatibility_version': '7.17.0', 'minimum_index_compatibility_version': '7.0.0'}, 'tagline': 'You Know, for Search'}\n"
     ]
    }
   ],
   "source": [
    "# custom mapping that defined the expected types of indices features\n",
    "# define mapping parameters for the \"chunk\" and \"embedding_vector\" fields\n",
    "# define \"vector_dim\"\n",
    "\n",
    "mappings = {\n",
    "    \"properties\": {\n",
    "        \"chunk\": {\n",
    "            \"type\": \"text\"\n",
    "        },\n",
    "        \"embedding_vector\": {\n",
    "            \"index\": True,\n",
    "            \"type\": \"dense_vector\",\n",
    "            \"dims\": vector_dim,\n",
    "            \"similarity\": \"cosine\",\n",
    "        }\n",
    "    }\n",
    "}"
   ]
  },
  {
   "cell_type": "code",
   "execution_count": 85,
   "id": "0aed9eec-f831-4d82-8f38-9c81fcccff5b",
   "metadata": {},
   "outputs": [
    {
     "name": "stdout",
     "output_type": "stream",
     "text": [
      "The Project Gutenberg eBook of Les Misérables This ebook is for the use of anyone anywhere in the United States and most other parts of the world at no cost and with almost no restrictions whatsoever. You may copy it, give it away or re-use it under the terms of the Project Gutenberg License included with this ebook or online at www.gutenberg.org. If you are not located in the United States, you will have to check the laws of the country where you are located before using this eBook.\n",
      "Title: Les Misérables\n",
      "Author: Victor Hugo\n",
      "Translator: Isabel Florence Hapgood\n",
      "Release date: June 22, 2008 [eBook #135] Most recently updated: October 29, 2024\n",
      "Language: English\n",
      "Credits: Judith Boss and David Widger\n",
      "*** START OF THE PROJECT GUTENBERG EBOOK LES MISÉRABLES ***\n",
      "LES MISÉRABLES\n",
      "By Victor Hugo\n"
     ]
    }
   ],
   "source": [
    "# a chunk is n sentences\n",
    "# every time I collect n sentences join them and that is a chunk, append to a list\n",
    "# after collecting m chunks, embed and index\n",
    "\n",
    "chunks = []\n",
    "sentences = []\n",
    "chunks_embeddings = []\n",
    "\n",
    "sentence_limit = 3\n",
    "chunk_limit = 10\n",
    "\n",
    "# processing the data as a stream and buffer the paragraphs in batches instead of one by one\n",
    "# calling nlp on a text returns a generator that yields Doc objects\n",
    "doc_pipeline = nlp.pipe(texts, batch_size = 5, n_process = 1)\n",
    "\n",
    "for doc in doc_pipeline:\n",
    "    for sent in doc.sents:\n",
    "        sentences.append(sent.text)\n",
    "        \n",
    "        if len(sentences) == sentence_limit:\n",
    "            chunk = \" \".join(sentences)\n",
    "            chunks.append(chunk)\n",
    "            sentences = sentences[1:]\n",
    "\n",
    "        if len(chunks) == chunk_limit:\n",
    "            # embed\n",
    "            chunks_embeddings.append(model.encode(chunks))\n",
    "            # index\n",
    "            # clear the list of chunks\n",
    "            chunks = []\n",
    "            \n",
    "        # print(sent)\n",
    "        # print()\n",
    "        \n",
    "    print(doc.text)\n",
    "\n",
    "# at the end of the loop, verify if there are sentences/chunks left to embed and embed them\n"
   ]
  },
  {
   "cell_type": "code",
   "execution_count": 86,
   "id": "478511c4-4ff5-41ee-acff-2e04f6e6b354",
   "metadata": {},
   "outputs": [
    {
     "data": {
      "text/plain": [
       "<generator object Language.pipe at 0x7f20f2b41e70>"
      ]
     },
     "execution_count": 86,
     "metadata": {},
     "output_type": "execute_result"
    }
   ],
   "source": [
    "doc_pipeline"
   ]
  },
  {
   "cell_type": "code",
   "execution_count": 93,
   "id": "e151aed2-8ebb-46ac-9def-6708590b44cc",
   "metadata": {},
   "outputs": [
    {
     "data": {
      "text/plain": [
       "['LES MISÉRABLES', 'By Victor Hugo']"
      ]
     },
     "execution_count": 93,
     "metadata": {},
     "output_type": "execute_result"
    }
   ],
   "source": [
    "sentences"
   ]
  },
  {
   "cell_type": "code",
   "execution_count": 88,
   "id": "4148d19c-2e76-40f4-b470-8857d61acba1",
   "metadata": {},
   "outputs": [
    {
     "data": {
      "text/plain": [
       "['*** START OF THE PROJECT GUTENBERG EBOOK LES MISÉRABLES *** LES MISÉRABLES',\n",
       " '*** LES MISÉRABLES By Victor Hugo']"
      ]
     },
     "execution_count": 88,
     "metadata": {},
     "output_type": "execute_result"
    }
   ],
   "source": [
    "chunks"
   ]
  },
  {
   "cell_type": "code",
   "execution_count": 89,
   "id": "f9124096-07c5-471f-b556-6c8fa890c3ca",
   "metadata": {},
   "outputs": [
    {
     "data": {
      "text/plain": [
       "1"
      ]
     },
     "execution_count": 89,
     "metadata": {},
     "output_type": "execute_result"
    }
   ],
   "source": [
    "len(chunks_embeddings)"
   ]
  },
  {
   "cell_type": "code",
   "execution_count": 92,
   "id": "82dce63a-35af-4ae3-81bd-be430c6a39fa",
   "metadata": {},
   "outputs": [
    {
     "data": {
      "text/plain": [
       "(10, 512)"
      ]
     },
     "execution_count": 92,
     "metadata": {},
     "output_type": "execute_result"
    }
   ],
   "source": [
    "chunks_embeddings[0].shape"
   ]
  },
  {
   "cell_type": "code",
   "execution_count": null,
   "id": "6fd882b0-4633-4a00-8269-9a70ed1c3518",
   "metadata": {},
   "outputs": [],
   "source": []
  },
  {
   "cell_type": "code",
   "execution_count": null,
   "id": "c4147f7d-6928-4784-b43e-458a7270d2b0",
   "metadata": {},
   "outputs": [],
   "source": []
  },
  {
   "cell_type": "code",
   "execution_count": null,
   "id": "7d435f14-9528-47c8-8e3a-d055aefec629",
   "metadata": {},
   "outputs": [],
   "source": []
  }
 ],
 "metadata": {
  "kernelspec": {
   "display_name": "Python 3 (ipykernel)",
   "language": "python",
   "name": "python3"
  },
  "language_info": {
   "codemirror_mode": {
    "name": "ipython",
    "version": 3
   },
   "file_extension": ".py",
   "mimetype": "text/x-python",
   "name": "python",
   "nbconvert_exporter": "python",
   "pygments_lexer": "ipython3",
   "version": "3.11.9"
  }
 },
 "nbformat": 4,
 "nbformat_minor": 5
}
