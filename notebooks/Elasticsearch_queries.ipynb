{
 "cells": [
  {
   "cell_type": "code",
   "execution_count": 5,
   "id": "b1664b76-149d-4aa1-8b7d-8fe62b484c5a",
   "metadata": {},
   "outputs": [],
   "source": [
    "from elasticsearch import Elasticsearch\n",
    "from elasticsearch import helpers\n",
    "\n",
    "from FlagEmbedding import FlagModel\n",
    "import json"
   ]
  },
  {
   "cell_type": "code",
   "execution_count": 22,
   "id": "bc804785-e83a-4c87-ac80-15f4e325d80a",
   "metadata": {},
   "outputs": [],
   "source": [
    "# load bge language model to embed the text in chunks\n",
    "model = FlagModel('BAAI/bge-small-zh-v1.5', use_fp16 = True)"
   ]
  },
  {
   "cell_type": "code",
   "execution_count": 2,
   "id": "2e9e980f-5212-4588-9b8f-cd3c7935a908",
   "metadata": {},
   "outputs": [],
   "source": [
    "# instantiate Python client for Elastic search\n",
    "client = Elasticsearch(\"http://elasticsearch:9200\")"
   ]
  },
  {
   "cell_type": "code",
   "execution_count": 3,
   "id": "c14c78ad-e032-4086-84c3-fc164d28a75a",
   "metadata": {},
   "outputs": [
    {
     "data": {
      "text/plain": [
       "HeadApiResponse(True)"
      ]
     },
     "execution_count": 3,
     "metadata": {},
     "output_type": "execute_result"
    }
   ],
   "source": [
    "client.indices.exists(index = \"text_embeddings_index\")"
   ]
  },
  {
   "cell_type": "code",
   "execution_count": 14,
   "id": "85110070-4b6d-4902-abd3-3de29656ab9c",
   "metadata": {},
   "outputs": [],
   "source": [
    "resp = client.search(\n",
    "    index = \"text_embeddings_index\",\n",
    "    query = {\n",
    "        \"bool\": {\n",
    "            \"must\": [\n",
    "                {\n",
    "                    \"match\": {\n",
    "                        \"chunk\": \"gavroche\",\n",
    "                    }\n",
    "                },\n",
    "                {\n",
    "                    \"match\": {\n",
    "                        \"chunk\": \"javert\",\n",
    "                    }\n",
    "                }\n",
    "            ]\n",
    "        }\n",
    "    },\n",
    "    source = [\"chunk\"]\n",
    ")"
   ]
  },
  {
   "cell_type": "code",
   "execution_count": 21,
   "id": "defa8cd6-16eb-4198-a1cd-ffea94fd18e3",
   "metadata": {},
   "outputs": [
    {
     "data": {
      "text/plain": [
       "[{'_index': 'text_embeddings_index',\n",
       "  '_id': 'NyXj0pMBJCf2OsYvxsYT',\n",
       "  '_score': 7.365013,\n",
       "  '_source': {'chunk': 'When the corpse passed near Javert, who was still impassive, Enjolras said to the spy:— “It will be your turn presently!” During all this time, Little Gavroche, who alone had not quitted his post, but had remained on guard, thought he espied some men stealthily approaching the barricade.'}},\n",
       " {'_index': 'text_embeddings_index',\n",
       "  '_id': 'USXi0pMBJCf2OsYvjMRL',\n",
       "  '_score': 7.2688136,\n",
       "  '_source': {'chunk': 'The search ended, they lifted Javert to his feet, bound his arms behind his back, and fastened him to that celebrated post in the middle of the room which had formerly given the wine-shop its name. Gavroche, who had looked on at the whole of this scene and had approved of everything with a silent toss of his head, stepped up to Javert and said to him:— “It’s the mouse who has caught the cat.”'}},\n",
       " {'_index': 'text_embeddings_index',\n",
       "  '_id': 'UCXi0pMBJCf2OsYvjMRL',\n",
       "  '_score': 7.0393696,\n",
       "  '_source': {'chunk': '“As soon as his political mission is accomplished, Inspector Javert will make sure, by special supervision, whether it is true that the malefactors have instituted intrigues on the right bank of the Seine, near the Jena bridge.” The search ended, they lifted Javert to his feet, bound his arms behind his back, and fastened him to that celebrated post in the middle of the room which had formerly given the wine-shop its name. Gavroche, who had looked on at the whole of this scene and had approved of everything with a silent toss of his head, stepped up to Javert and said to him:—'}},\n",
       " {'_index': 'text_embeddings_index',\n",
       "  '_id': 'UiXi0pMBJCf2OsYvjMRL',\n",
       "  '_score': 6.8893805,\n",
       "  '_source': {'chunk': 'Gavroche, who had looked on at the whole of this scene and had approved of everything with a silent toss of his head, stepped up to Javert and said to him:— “It’s the mouse who has caught the cat.” All this was so rapidly executed, that it was all over when those about the wine-shop noticed it.'}}]"
      ]
     },
     "execution_count": 21,
     "metadata": {},
     "output_type": "execute_result"
    }
   ],
   "source": [
    "resp[\"hits\"][\"hits\"]"
   ]
  },
  {
   "cell_type": "code",
   "execution_count": 16,
   "id": "99258625-0815-46d3-8803-9afec6b31082",
   "metadata": {},
   "outputs": [],
   "source": [
    "# print(json.dumps(resp, indent = 3))"
   ]
  },
  {
   "cell_type": "code",
   "execution_count": 20,
   "id": "cd31b02e-a9af-4b2b-87f5-7ec0a794c3a1",
   "metadata": {},
   "outputs": [
    {
     "data": {
      "text/plain": [
       "{'took': 6,\n",
       " 'timed_out': False,\n",
       " '_shards': {'total': 1, 'successful': 1, 'skipped': 0, 'failed': 0},\n",
       " 'hits': {'total': {'value': 4, 'relation': 'eq'},\n",
       "  'max_score': 7.365013,\n",
       "  'hits': [{'_index': 'text_embeddings_index',\n",
       "    '_id': 'NyXj0pMBJCf2OsYvxsYT',\n",
       "    '_score': 7.365013,\n",
       "    '_source': {'chunk': 'When the corpse passed near Javert, who was still impassive, Enjolras said to the spy:— “It will be your turn presently!” During all this time, Little Gavroche, who alone had not quitted his post, but had remained on guard, thought he espied some men stealthily approaching the barricade.'}},\n",
       "   {'_index': 'text_embeddings_index',\n",
       "    '_id': 'USXi0pMBJCf2OsYvjMRL',\n",
       "    '_score': 7.2688136,\n",
       "    '_source': {'chunk': 'The search ended, they lifted Javert to his feet, bound his arms behind his back, and fastened him to that celebrated post in the middle of the room which had formerly given the wine-shop its name. Gavroche, who had looked on at the whole of this scene and had approved of everything with a silent toss of his head, stepped up to Javert and said to him:— “It’s the mouse who has caught the cat.”'}},\n",
       "   {'_index': 'text_embeddings_index',\n",
       "    '_id': 'UCXi0pMBJCf2OsYvjMRL',\n",
       "    '_score': 7.0393696,\n",
       "    '_source': {'chunk': '“As soon as his political mission is accomplished, Inspector Javert will make sure, by special supervision, whether it is true that the malefactors have instituted intrigues on the right bank of the Seine, near the Jena bridge.” The search ended, they lifted Javert to his feet, bound his arms behind his back, and fastened him to that celebrated post in the middle of the room which had formerly given the wine-shop its name. Gavroche, who had looked on at the whole of this scene and had approved of everything with a silent toss of his head, stepped up to Javert and said to him:—'}},\n",
       "   {'_index': 'text_embeddings_index',\n",
       "    '_id': 'UiXi0pMBJCf2OsYvjMRL',\n",
       "    '_score': 6.8893805,\n",
       "    '_source': {'chunk': 'Gavroche, who had looked on at the whole of this scene and had approved of everything with a silent toss of his head, stepped up to Javert and said to him:— “It’s the mouse who has caught the cat.” All this was so rapidly executed, that it was all over when those about the wine-shop noticed it.'}}]}}"
      ]
     },
     "execution_count": 20,
     "metadata": {},
     "output_type": "execute_result"
    }
   ],
   "source": [
    "resp.body"
   ]
  },
  {
   "cell_type": "code",
   "execution_count": 53,
   "id": "901eb8e4-5c5a-43d6-b646-c031f8aeff51",
   "metadata": {},
   "outputs": [],
   "source": [
    "queries = [\"who is valjean?\"]"
   ]
  },
  {
   "cell_type": "code",
   "execution_count": 54,
   "id": "740cead3-9e7b-40f4-8537-c61ef307045a",
   "metadata": {},
   "outputs": [],
   "source": [
    "q_embeddings = model.encode_queries(queries)"
   ]
  },
  {
   "cell_type": "code",
   "execution_count": 55,
   "id": "d568e0b2-e122-458b-a675-1ee71b17b705",
   "metadata": {},
   "outputs": [],
   "source": [
    "# q_embeddings.tolist()[0]"
   ]
  },
  {
   "cell_type": "code",
   "execution_count": 58,
   "id": "40dda3e0-4405-4d89-8846-56dfb92eff46",
   "metadata": {},
   "outputs": [],
   "source": [
    "resp_knn = client.search(\n",
    "    index = \"text_embeddings_index\",\n",
    "    # size = 3,\n",
    "    query = {\n",
    "        \"knn\": {\n",
    "            \"field\": \"embedding_vector\",\n",
    "            \"query_vector\": q_embeddings.tolist()[0],\n",
    "            \"k\": 10,\n",
    "            \"num_candidates\": 100,\n",
    "        }\n",
    "    },\n",
    ")"
   ]
  },
  {
   "cell_type": "code",
   "execution_count": 59,
   "id": "0af85f6d-1cbb-4efb-8b00-c25c2ff10757",
   "metadata": {},
   "outputs": [
    {
     "name": "stdout",
     "output_type": "stream",
     "text": [
      "0.8136349 “Where?” “Into the vault.” “What vault?”\n",
      "\n",
      "0.80684566 more! more! Empty the vase!\n",
      "\n",
      "0.80605316 Did those Thénardiers keep her clean? How have they fed her? Oh!\n",
      "\n",
      "0.8045044 “Into the vault.” “What vault?” “Under the altar.”\n",
      "\n",
      "0.8040962 With whom? She did not know. Whither?\n",
      "\n",
      "0.8023195 “Well! What is it? What is the matter, Javert?”\n",
      "\n",
      "0.8011675 What mattered it to them? They were a whirlwind. Their valor was something indescribable.\n",
      "\n",
      "0.80007267 I am tracked! By whom? By myself.\n",
      "\n",
      "0.79997444 But then, what? In whom can we trust? _\n",
      "\n",
      "0.79955006 more! Empty the vase! tip the urn!\n",
      "\n"
     ]
    }
   ],
   "source": [
    "for hit in resp_knn[\"hits\"][\"hits\"]:\n",
    "    print(hit[\"_score\"], hit[\"_source\"][\"chunk\"])\n",
    "    print()"
   ]
  },
  {
   "cell_type": "code",
   "execution_count": 60,
   "id": "77b84d20-a5c7-4770-aabb-825957ea4033",
   "metadata": {},
   "outputs": [],
   "source": [
    "resp_hybrid_knn = client.search(\n",
    "    index = \"text_embeddings_index\",\n",
    "    # size = 3,\n",
    "    query = {\n",
    "        \"bool\": \n",
    "        {\n",
    "            \"should\": \n",
    "            [\n",
    "                {\n",
    "                    \"match\": {\n",
    "                        \"chunk\": {\n",
    "                            \"query\": \"valjean\",\n",
    "                            \"boost\": 1\n",
    "                        }\n",
    "                    }\n",
    "                },\n",
    "                {\n",
    "                    \"knn\": {\n",
    "                        \"field\": \"embedding_vector\",\n",
    "                        \"query_vector\": q_embeddings.tolist()[0],\n",
    "                        \"k\": 10,\n",
    "                        \"boost\": 2\n",
    "                    }\n",
    "                }\n",
    "            ]\n",
    "        }\n",
    "    },\n",
    ")"
   ]
  },
  {
   "cell_type": "code",
   "execution_count": 61,
   "id": "76e22d4d-4828-4ed7-bdf8-56d710a60abd",
   "metadata": {},
   "outputs": [
    {
     "name": "stdout",
     "output_type": "stream",
     "text": [
      "4.933772 You are Jean Valjean!’ ‘Jean Valjean! who’s Jean Valjean?’\n",
      "\n",
      "4.6556225 ‘Jean Valjean! who’s Jean Valjean?’ Champmathieu feigns astonishment.\n",
      "\n",
      "4.5801044 CHAPTER VI—JEAN VALJEAN Towards the middle of the night Jean Valjean woke. Jean Valjean came from a poor peasant family of Brie.\n",
      "\n",
      "4.549079 Javert followed Jean Valjean. They reached No. 7. Jean Valjean knocked.\n",
      "\n",
      "4.533677 Having exhausted these considerations, he passed on to Jean Valjean himself. Who was this Jean Valjean? Description of Jean Valjean: a monster spewed forth, etc.\n",
      "\n",
      "4.414382 “What is your name?” said Jean Valjean. “Little Gervais, sir.” “Go away,” said Jean Valjean.\n",
      "\n",
      "4.414382 Who could that stranger be? Could it be Jean Valjean? But Jean Valjean was dead.\n",
      "\n",
      "4.414382 “Yes,” said Jean Valjean, “I am content!” “Well, then, laugh.” Jean Valjean began to laugh.\n",
      "\n",
      "4.414382 “They are no longer here,” replied Jean Valjean. “This is too much!” Jean Valjean stammered:\n",
      "\n",
      "4.414382 Jean Valjean said to him. Marius could find no words, and Jean Valjean added: “Thanks.”\n",
      "\n"
     ]
    }
   ],
   "source": [
    "for hit in resp_hybrid_knn[\"hits\"][\"hits\"]:\n",
    "    print(hit[\"_score\"], hit[\"_source\"][\"chunk\"])\n",
    "    print()"
   ]
  },
  {
   "cell_type": "code",
   "execution_count": null,
   "id": "319387c1-45e8-4862-9bea-3e50dcb33852",
   "metadata": {},
   "outputs": [],
   "source": []
  },
  {
   "cell_type": "code",
   "execution_count": null,
   "id": "68813d72-e59b-4127-84bb-c87b929adb51",
   "metadata": {},
   "outputs": [],
   "source": []
  }
 ],
 "metadata": {
  "kernelspec": {
   "display_name": "Python 3 (ipykernel)",
   "language": "python",
   "name": "python3"
  },
  "language_info": {
   "codemirror_mode": {
    "name": "ipython",
    "version": 3
   },
   "file_extension": ".py",
   "mimetype": "text/x-python",
   "name": "python",
   "nbconvert_exporter": "python",
   "pygments_lexer": "ipython3",
   "version": "3.11.9"
  }
 },
 "nbformat": 4,
 "nbformat_minor": 5
}
