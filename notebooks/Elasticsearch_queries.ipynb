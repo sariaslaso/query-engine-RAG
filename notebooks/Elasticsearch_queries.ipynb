{
 "cells": [
  {
   "cell_type": "code",
   "execution_count": 5,
   "id": "b1664b76-149d-4aa1-8b7d-8fe62b484c5a",
   "metadata": {},
   "outputs": [],
   "source": [
    "from elasticsearch import Elasticsearch\n",
    "from elasticsearch import helpers\n",
    "\n",
    "from FlagEmbedding import FlagModel\n",
    "import json"
   ]
  },
  {
   "cell_type": "code",
   "execution_count": 2,
   "id": "2e9e980f-5212-4588-9b8f-cd3c7935a908",
   "metadata": {},
   "outputs": [],
   "source": [
    "# instantiate Python client for Elastic search\n",
    "client = Elasticsearch(\"http://elasticsearch:9200\")"
   ]
  },
  {
   "cell_type": "code",
   "execution_count": 3,
   "id": "c14c78ad-e032-4086-84c3-fc164d28a75a",
   "metadata": {},
   "outputs": [
    {
     "data": {
      "text/plain": [
       "HeadApiResponse(True)"
      ]
     },
     "execution_count": 3,
     "metadata": {},
     "output_type": "execute_result"
    }
   ],
   "source": [
    "client.indices.exists(index = \"text_embeddings_index\")"
   ]
  },
  {
   "cell_type": "code",
   "execution_count": 14,
   "id": "85110070-4b6d-4902-abd3-3de29656ab9c",
   "metadata": {},
   "outputs": [],
   "source": [
    "resp = client.search(\n",
    "    index = \"text_embeddings_index\",\n",
    "    query = {\n",
    "        \"bool\": {\n",
    "            \"must\": [\n",
    "                {\n",
    "                    \"match\": {\n",
    "                        \"chunk\": \"gavroche\",\n",
    "                    }\n",
    "                },\n",
    "                {\n",
    "                    \"match\": {\n",
    "                        \"chunk\": \"javert\",\n",
    "                    }\n",
    "                }\n",
    "            ]\n",
    "        }\n",
    "    },\n",
    "    source = [\"chunk\"]\n",
    ")"
   ]
  },
  {
   "cell_type": "code",
   "execution_count": 21,
   "id": "defa8cd6-16eb-4198-a1cd-ffea94fd18e3",
   "metadata": {},
   "outputs": [
    {
     "data": {
      "text/plain": [
       "[{'_index': 'text_embeddings_index',\n",
       "  '_id': 'NyXj0pMBJCf2OsYvxsYT',\n",
       "  '_score': 7.365013,\n",
       "  '_source': {'chunk': 'When the corpse passed near Javert, who was still impassive, Enjolras said to the spy:— “It will be your turn presently!” During all this time, Little Gavroche, who alone had not quitted his post, but had remained on guard, thought he espied some men stealthily approaching the barricade.'}},\n",
       " {'_index': 'text_embeddings_index',\n",
       "  '_id': 'USXi0pMBJCf2OsYvjMRL',\n",
       "  '_score': 7.2688136,\n",
       "  '_source': {'chunk': 'The search ended, they lifted Javert to his feet, bound his arms behind his back, and fastened him to that celebrated post in the middle of the room which had formerly given the wine-shop its name. Gavroche, who had looked on at the whole of this scene and had approved of everything with a silent toss of his head, stepped up to Javert and said to him:— “It’s the mouse who has caught the cat.”'}},\n",
       " {'_index': 'text_embeddings_index',\n",
       "  '_id': 'UCXi0pMBJCf2OsYvjMRL',\n",
       "  '_score': 7.0393696,\n",
       "  '_source': {'chunk': '“As soon as his political mission is accomplished, Inspector Javert will make sure, by special supervision, whether it is true that the malefactors have instituted intrigues on the right bank of the Seine, near the Jena bridge.” The search ended, they lifted Javert to his feet, bound his arms behind his back, and fastened him to that celebrated post in the middle of the room which had formerly given the wine-shop its name. Gavroche, who had looked on at the whole of this scene and had approved of everything with a silent toss of his head, stepped up to Javert and said to him:—'}},\n",
       " {'_index': 'text_embeddings_index',\n",
       "  '_id': 'UiXi0pMBJCf2OsYvjMRL',\n",
       "  '_score': 6.8893805,\n",
       "  '_source': {'chunk': 'Gavroche, who had looked on at the whole of this scene and had approved of everything with a silent toss of his head, stepped up to Javert and said to him:— “It’s the mouse who has caught the cat.” All this was so rapidly executed, that it was all over when those about the wine-shop noticed it.'}}]"
      ]
     },
     "execution_count": 21,
     "metadata": {},
     "output_type": "execute_result"
    }
   ],
   "source": [
    "resp[\"hits\"][\"hits\"]"
   ]
  },
  {
   "cell_type": "code",
   "execution_count": 16,
   "id": "99258625-0815-46d3-8803-9afec6b31082",
   "metadata": {},
   "outputs": [],
   "source": [
    "# print(json.dumps(resp, indent = 3))"
   ]
  },
  {
   "cell_type": "code",
   "execution_count": 20,
   "id": "cd31b02e-a9af-4b2b-87f5-7ec0a794c3a1",
   "metadata": {},
   "outputs": [
    {
     "data": {
      "text/plain": [
       "{'took': 6,\n",
       " 'timed_out': False,\n",
       " '_shards': {'total': 1, 'successful': 1, 'skipped': 0, 'failed': 0},\n",
       " 'hits': {'total': {'value': 4, 'relation': 'eq'},\n",
       "  'max_score': 7.365013,\n",
       "  'hits': [{'_index': 'text_embeddings_index',\n",
       "    '_id': 'NyXj0pMBJCf2OsYvxsYT',\n",
       "    '_score': 7.365013,\n",
       "    '_source': {'chunk': 'When the corpse passed near Javert, who was still impassive, Enjolras said to the spy:— “It will be your turn presently!” During all this time, Little Gavroche, who alone had not quitted his post, but had remained on guard, thought he espied some men stealthily approaching the barricade.'}},\n",
       "   {'_index': 'text_embeddings_index',\n",
       "    '_id': 'USXi0pMBJCf2OsYvjMRL',\n",
       "    '_score': 7.2688136,\n",
       "    '_source': {'chunk': 'The search ended, they lifted Javert to his feet, bound his arms behind his back, and fastened him to that celebrated post in the middle of the room which had formerly given the wine-shop its name. Gavroche, who had looked on at the whole of this scene and had approved of everything with a silent toss of his head, stepped up to Javert and said to him:— “It’s the mouse who has caught the cat.”'}},\n",
       "   {'_index': 'text_embeddings_index',\n",
       "    '_id': 'UCXi0pMBJCf2OsYvjMRL',\n",
       "    '_score': 7.0393696,\n",
       "    '_source': {'chunk': '“As soon as his political mission is accomplished, Inspector Javert will make sure, by special supervision, whether it is true that the malefactors have instituted intrigues on the right bank of the Seine, near the Jena bridge.” The search ended, they lifted Javert to his feet, bound his arms behind his back, and fastened him to that celebrated post in the middle of the room which had formerly given the wine-shop its name. Gavroche, who had looked on at the whole of this scene and had approved of everything with a silent toss of his head, stepped up to Javert and said to him:—'}},\n",
       "   {'_index': 'text_embeddings_index',\n",
       "    '_id': 'UiXi0pMBJCf2OsYvjMRL',\n",
       "    '_score': 6.8893805,\n",
       "    '_source': {'chunk': 'Gavroche, who had looked on at the whole of this scene and had approved of everything with a silent toss of his head, stepped up to Javert and said to him:— “It’s the mouse who has caught the cat.” All this was so rapidly executed, that it was all over when those about the wine-shop noticed it.'}}]}}"
      ]
     },
     "execution_count": 20,
     "metadata": {},
     "output_type": "execute_result"
    }
   ],
   "source": [
    "resp.body"
   ]
  },
  {
   "cell_type": "code",
   "execution_count": null,
   "id": "901eb8e4-5c5a-43d6-b646-c031f8aeff51",
   "metadata": {},
   "outputs": [],
   "source": []
  },
  {
   "cell_type": "code",
   "execution_count": null,
   "id": "77b84d20-a5c7-4770-aabb-825957ea4033",
   "metadata": {},
   "outputs": [],
   "source": []
  },
  {
   "cell_type": "code",
   "execution_count": null,
   "id": "76e22d4d-4828-4ed7-bdf8-56d710a60abd",
   "metadata": {},
   "outputs": [],
   "source": []
  },
  {
   "cell_type": "code",
   "execution_count": null,
   "id": "319387c1-45e8-4862-9bea-3e50dcb33852",
   "metadata": {},
   "outputs": [],
   "source": []
  },
  {
   "cell_type": "code",
   "execution_count": null,
   "id": "68813d72-e59b-4127-84bb-c87b929adb51",
   "metadata": {},
   "outputs": [],
   "source": []
  }
 ],
 "metadata": {
  "kernelspec": {
   "display_name": "Python 3 (ipykernel)",
   "language": "python",
   "name": "python3"
  },
  "language_info": {
   "codemirror_mode": {
    "name": "ipython",
    "version": 3
   },
   "file_extension": ".py",
   "mimetype": "text/x-python",
   "name": "python",
   "nbconvert_exporter": "python",
   "pygments_lexer": "ipython3",
   "version": "3.11.9"
  }
 },
 "nbformat": 4,
 "nbformat_minor": 5
}
